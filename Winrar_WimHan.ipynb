{
  "nbformat": 4,
  "nbformat_minor": 0,
  "metadata": {
    "colab": {
      "name": "Winrar_WimHan.ipynb",
      "provenance": [],
      "collapsed_sections": [],
      "toc_visible": true,
      "include_colab_link": true
    },
    "kernelspec": {
      "display_name": "Python 3",
      "language": "python",
      "name": "python3"
    }
  },
  "cells": [
    {
      "cell_type": "markdown",
      "metadata": {
        "id": "view-in-github",
        "colab_type": "text"
      },
      "source": [
        "<a href=\"https://colab.research.google.com/github/WimHan/Winrar-with-password/blob/master/Winrar_WimHan.ipynb\" target=\"_parent\"><img src=\"https://colab.research.google.com/assets/colab-badge.svg\" alt=\"Open In Colab\"/></a>"
      ]
    },
    {
      "cell_type": "markdown",
      "metadata": {
        "id": "aQuWDmfm9YOi",
        "colab_type": "text"
      },
      "source": [
        "# Torrent To Google Drive Downloader "
      ]
    },
    {
      "cell_type": "markdown",
      "metadata": {
        "id": "qYk44mBwJf6E",
        "colab_type": "text"
      },
      "source": [
        "To get more disk space:\n",
        "> Go to Runtime -> Change Runtime and give GPU as the Hardware Accelerator.  You will get around 100GB Disk."
      ]
    },
    {
      "cell_type": "markdown",
      "metadata": {
        "id": "Uf90U73y9YOj",
        "colab_type": "text"
      },
      "source": [
        "### 1. Mount Google Drive\n",
        "To stream files we need to mount Google Drive."
      ]
    },
    {
      "cell_type": "code",
      "metadata": {
        "colab_type": "code",
        "id": "oWM9l2fvtuvO",
        "outputId": "ef012de4-3119-4a6b-8e0b-102b5d439b6d",
        "colab": {
          "base_uri": "https://localhost:8080/",
          "height": 124
        }
      },
      "source": [
        "from google.colab import drive\n",
        "\n",
        "drive.mount(\"/content/drive\")"
      ],
      "execution_count": 0,
      "outputs": [
        {
          "output_type": "stream",
          "text": [
            "Go to this URL in a browser: https://accounts.google.com/o/oauth2/auth?client_id=947318989803-6bn6qk8qdgf4n4g3pfee6491hc0brc4i.apps.googleusercontent.com&redirect_uri=urn%3aietf%3awg%3aoauth%3a2.0%3aoob&response_type=code&scope=email%20https%3a%2f%2fwww.googleapis.com%2fauth%2fdocs.test%20https%3a%2f%2fwww.googleapis.com%2fauth%2fdrive%20https%3a%2f%2fwww.googleapis.com%2fauth%2fdrive.photos.readonly%20https%3a%2f%2fwww.googleapis.com%2fauth%2fpeopleapi.readonly\n",
            "\n",
            "Enter your authorization code:\n",
            "··········\n",
            "Mounted at /content/drive\n"
          ],
          "name": "stdout"
        }
      ]
    },
    {
      "cell_type": "markdown",
      "metadata": {
        "id": "NaFa7M-e9YOr",
        "colab_type": "text"
      },
      "source": [
        "### 2. Install winrar\n",
        "from https://www.rarlab.com/download.htm"
      ]
    },
    {
      "cell_type": "code",
      "metadata": {
        "colab_type": "code",
        "id": "m6hF0emftx4h",
        "colab": {}
      },
      "source": [
        "!wget \"https://www.rarlab.com/rar/rarlinux-x64-5.9.b1.tar.gz\"\n",
        "!tar xf rarlinux-x64-5.9.b1.tar.gz \n",
        "!mv rar rarlinux-5.9.0    # create folder in a Jupyter notebook, hosted in Colaboratory\n",
        "\n",
        "# print all subdirectoris and files\n",
        "import os\n",
        "rootdir = os.getcwd()\n",
        "for subdir, dirs, files in os.walk(rootdir):\n",
        "    for file in files:\n",
        "        print(os.path.join(subdir, file))\n",
        "\n",
        "exists = os.path.isfile('/content/rarlinux-5.9.0/rar')\n",
        "if not exists:\n",
        "    print('rar is NOT installed.')\n",
        "    exit(1)\n",
        "else:\n",
        "    os.chdir(\"/content/rarlinux-5.9.0\")\n",
        "    !./unrar   # print RAR syntax"
      ],
      "execution_count": 0,
      "outputs": []
    },
    {
      "cell_type": "markdown",
      "metadata": {
        "id": "R_1XuuIf9YOn",
        "colab_type": "text"
      },
      "source": [
        "### 3. unrar files\n",
        "Extract compressed files with password protected"
      ]
    },
    {
      "cell_type": "markdown",
      "metadata": {
        "id": "-PAT_zF51Bh0",
        "colab_type": "text"
      },
      "source": [
        "3.1 Input variables"
      ]
    },
    {
      "cell_type": "code",
      "metadata": {
        "id": "GMATeFYp1NSu",
        "colab_type": "code",
        "colab": {}
      },
      "source": [
        "#@title ## Input variables\n",
        "\n",
        "\n",
        "#@markdown ---\n",
        "#@markdown ### Enter a file path:\n",
        "inputPath = \"/content/drive/My Drive/path_input\" #@param {type:\"string\"}\n",
        "outputPath = \"/content/drive/My Drive/path_output\" #@param {type:\"string\"}\n",
        "#@markdown ### Enter password:\n",
        "password = \"\" #@param {type:\"string\"}\n",
        "#@markdown ---\n"
      ],
      "execution_count": 0,
      "outputs": []
    },
    {
      "cell_type": "markdown",
      "metadata": {
        "id": "09hwTPFr2sim",
        "colab_type": "text"
      },
      "source": [
        "3.2 Run unrar"
      ]
    },
    {
      "cell_type": "code",
      "metadata": {
        "colab_type": "code",
        "id": "0et2A6N3udA0",
        "cellView": "both",
        "colab": {}
      },
      "source": [
        "import sys, os\n",
        "\n",
        "## You can change the inputPath, outputPath, password in this srcipt, without 3.1 Input variables\n",
        "## If your Google Drvie has Shared Drives, you can set the paths to the Shared Drives\n",
        "\n",
        "#inputPath = \"/content/drive/My Drive/path_input\"\n",
        "#outputPath = \"/content/drive/My Drive/path_output\"\n",
        "if not os.path.exists(outputPath):\n",
        "    os.makedirs(outputPath)\n",
        "#password = input(\"password:\") \n",
        "\n",
        "\n",
        "#check if rar exist\n",
        "exists = os.path.isfile('/content/rarlinux-5.9.0/rar')\n",
        "if not exists:\n",
        "    print('rar is NOT installed.')\n",
        "    exit(1)\n",
        "else:    \n",
        "    # change directory to \"/content/rarlinux-5.9.0r\"\n",
        "    os.chdir(\"/content/rarlinux-5.9.0\")\n",
        "\n",
        "# list input files    \n",
        "listing = os.listdir(inputPath)\n",
        "for InputFileName in listing:\n",
        "    if os.path.isdir(InputFileName):\n",
        "        pass\n",
        "    else:\n",
        "        path = (inputPath,'/',InputFileName)\n",
        "        filenam_with_path = ''.join(path)\n",
        "        print(InputFileName)\n",
        "        if password == \"\":\n",
        "            !unrar e \"{filenam_with_path}\" \"{outputPath}\"\n",
        "        else:  \n",
        "            !unrar e \"{filenam_with_path}\" -p\"{password}\" \"{outputPath}\"\n",
        "\n"
      ],
      "execution_count": 0,
      "outputs": []
    }
  ]
}